{
 "cells": [
  {
   "cell_type": "code",
   "execution_count": 40,
   "id": "7b93e446",
   "metadata": {},
   "outputs": [],
   "source": [
    "from pprint import pprint\n",
    "from collections import Counter\n",
    "from babyai.common import *\n",
    "from datasets.load_data_utils import load_from_dir"
   ]
  },
  {
   "cell_type": "code",
   "execution_count": 41,
   "id": "50beba22",
   "metadata": {},
   "outputs": [],
   "source": [
    "# load data \n",
    "inputs = load_from_dir(f'data/babyai/env_description_chunked')\n",
    "texts, labels, tasknames = list(zip(*inputs))"
   ]
  },
  {
   "cell_type": "code",
   "execution_count": 18,
   "id": "f0f8ad12",
   "metadata": {},
   "outputs": [],
   "source": [
    "def labels_by_taskname(tasknames, labels):\n",
    "    dists = {}\n",
    "    for taskname, label in zip(tasknames, labels):\n",
    "        if taskname not in dists:\n",
    "            dists[taskname] = Counter()\n",
    "        dists[taskname][label] += 1\n",
    "    return dists\n",
    "\n",
    "def normalize_labels_dist(dist):\n",
    "    total = sum(dist.values())\n",
    "    return {k: v / total for k, v in dist.items()}"
   ]
  },
  {
   "cell_type": "code",
   "execution_count": 8,
   "id": "3aab4c7d",
   "metadata": {},
   "outputs": [],
   "source": [
    "labels_taskname_dists = labels_by_taskname(tasknames, labels)\n",
    "\n",
    "pprint(labels_taskname_dists)"
   ]
  },
  {
   "cell_type": "code",
   "execution_count": 19,
   "id": "1f1284b6",
   "metadata": {},
   "outputs": [
    {
     "name": "stdout",
     "output_type": "stream",
     "text": [
      "Counter({'forward': 1238681,\n",
      "         'right': 340332,\n",
      "         'left': 272372,\n",
      "         'toggle': 74284,\n",
      "         'pickup': 57376,\n",
      "         'drop': 16955})\n"
     ]
    }
   ],
   "source": [
    "labels_dist = Counter()\n",
    "for _, dist in labels_taskname_dists.items():\n",
    "    labels_dist.update(dist)\n",
    "    \n",
    "pprint(labels_dist)"
   ]
  },
  {
   "cell_type": "code",
   "execution_count": 23,
   "id": "fb5b1f16",
   "metadata": {},
   "outputs": [
    {
     "name": "stdout",
     "output_type": "stream",
     "text": [
      "{'drop': 0.0084775,\n",
      " 'forward': 0.6193405,\n",
      " 'left': 0.136186,\n",
      " 'pickup': 0.028688,\n",
      " 'right': 0.170166,\n",
      " 'toggle': 0.037142}\n"
     ]
    }
   ],
   "source": [
    "pprint(normalize_labels_dist(labels_dist))"
   ]
  },
  {
   "cell_type": "code",
   "execution_count": null,
   "id": "c5cf36c2",
   "metadata": {},
   "outputs": [],
   "source": [
    "for _, dist in labels_taskname_dists.items():\n",
    "    pprint(normalize_labels_dist(dist))"
   ]
  }
 ],
 "metadata": {
  "interpreter": {
   "hash": "aee8b7b246df8f9039afb4144a1f6fd8d2ca17a180786b69acc140d282b71a49"
  },
  "kernelspec": {
   "display_name": "Python 3.9.12 64-bit",
   "language": "python",
   "name": "python3"
  },
  "language_info": {
   "codemirror_mode": {
    "name": "ipython",
    "version": 3
   },
   "file_extension": ".py",
   "mimetype": "text/x-python",
   "name": "python",
   "nbconvert_exporter": "python",
   "pygments_lexer": "ipython3",
   "version": "3.9.12"
  }
 },
 "nbformat": 4,
 "nbformat_minor": 5
}
